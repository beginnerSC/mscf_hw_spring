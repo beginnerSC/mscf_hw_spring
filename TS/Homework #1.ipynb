{
 "cells": [
  {
   "cell_type": "code",
   "execution_count": null,
   "metadata": {},
   "outputs": [],
   "source": [
    "import os\n",
    "import sys\n",
    "import pandas as pd\n",
    "import pandas_datareader as pdr\n",
    "import numpy as np\n",
    "import statsmodels as smm\n",
    "import statsmodels.formula.api as smf\n",
    "import statsmodels.tsa.api as smt\n",
    "import statsmodels.api as sm\n",
    "import scipy.stats as scs\n",
    "import matplotlib.pyplot as plt\n",
    "import matplotlib as mp\n",
    "import seaborn as sns\n"
   ]
  },
  {
   "cell_type": "code",
   "execution_count": null,
   "metadata": {},
   "outputs": [],
   "source": [
    "\n",
    "def tsplot(y, lags=None, figsize = (10,8), style = 'bmh'):\n",
    "    if not isinstance(y, pd.Series):\n",
    "        y = pd.Series(y)\n",
    "    with plt.style.context(style):\n",
    "        fig = plt.figure(figsize=figsize)\n",
    "        layout = (2,2)\n",
    "        ts_ax = plt.subplot2grid(layout, (0,0), colspan = 2)\n",
    "        acf_ax = plt.subplot2grid(layout, (1,1))\n",
    "        qq_ax = plt.subplot2grid(layout, (1,0))\n",
    "        y.plot(ax = ts_ax)\n",
    "        ts_ax.set_title('Insert Title')\n",
    "        smt.graphics.plot_acf(y, lags = lags, ax=acf_ax,alpha = 0.05)\n",
    "        sm.qqplot(y, line = 's', ax=qq_ax)\n",
    "        qq_ax.set_title('QQ PLot')\n",
    "        plt.tight_layout()\n",
    "    return\n"
   ]
  },
  {
   "cell_type": "code",
   "execution_count": null,
   "metadata": {},
   "outputs": [],
   "source": [
    "start = '2011-01-01'\n",
    "end = '2021-03-21'\n",
    "price = pdr.get_data_yahoo('gs',start,end)\n",
    "adjclose = price_data['Adj Close']\n",
    "shf = 1\n",
    "logret = np.log(adjclose/adjclose.shift(shf)).dropna()\n",
    "L = len(logret)\n",
    "LL = int(L/shf)\n",
    "logret_shf = np.zeros(LL)\n",
    "for i in range(int(L/shf)):\n",
    "    logret_shf[i] = logret[i*shf].tsplot(logret_shf)\n",
    "plt.show()"
   ]
  }
 ],
 "metadata": {
  "kernelspec": {
   "display_name": "Python 3",
   "language": "python",
   "name": "python3"
  },
  "language_info": {
   "codemirror_mode": {
    "name": "ipython",
    "version": 3
   },
   "file_extension": ".py",
   "mimetype": "text/x-python",
   "name": "python",
   "nbconvert_exporter": "python",
   "pygments_lexer": "ipython3",
   "version": "3.7.8"
  }
 },
 "nbformat": 4,
 "nbformat_minor": 4
}
