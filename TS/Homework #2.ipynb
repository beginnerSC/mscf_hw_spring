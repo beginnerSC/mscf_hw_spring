{
 "cells": [
  {
   "cell_type": "markdown",
   "metadata": {},
   "source": [
    "\\begin{center} \n",
    "Chun-Yuan (Scott) Chiu \n",
    "\\end{center}\n",
    "\\begin{center} \n",
    "chunyuac@andrew.cmu.edu \n",
    "\\end{center}"
   ]
  },
  {
   "cell_type": "markdown",
   "metadata": {},
   "source": [
    "# 1. {-}\n",
    "\n",
    "## (a) {-}\n",
    "\n",
    "Let $k>0$, $t>s>0$. Since $X_t$ is weakly stationary, we have\n",
    "\\begin{align*}\n",
    "\\operatorname{Cov}(Y_{s+k}, Y_{t+k}) &= \\operatorname{Cov}(X_{s+k}-X_{s+k-1}, X_{t+k}-X_{t+k-1}) \\\\\n",
    "&= \\operatorname{Cov}(X_{s+k}, X_{t+k}) - \\operatorname{Cov}(X_{s+k-1}, X_{t+k}) - \\operatorname{Cov}(X_{s+k}, X_{t+k-1}) + \\operatorname{Cov}(X_{s+k-1}, X_{t+k-1})\\\\\n",
    "&= \\operatorname{Cov}(X_{s}, X_{t}) - \\operatorname{Cov}(X_{s-1}, X_{t}) - \\operatorname{Cov}(X_{s}, X_{t-1}) + \\operatorname{Cov}(X_{s-1}, X_{t-1})\\\\\n",
    "&= \\operatorname{Cov}(X_{s}-X_{s-1}, X_{t}-X_{t-1}) \\\\\n",
    "&= \\operatorname{Cov}(Y_{s}, Y_{t}). \n",
    "\\end{align*}\n",
    "Thus $Y_t$ is weakly stationary too. \n",
    "\n",
    "\n",
    "The mean of $Y_t$ is \n",
    "\\begin{align*}\n",
    "E(Y_t) = E(X_t) - E(X_{t-1})\n",
    "\\end{align*}"
   ]
  },
  {
   "cell_type": "markdown",
   "metadata": {},
   "source": [
    "## (b) {-}\n",
    "\n"
   ]
  }
 ],
 "metadata": {
  "kernelspec": {
   "display_name": "Python 3",
   "language": "python",
   "name": "python3"
  },
  "language_info": {
   "codemirror_mode": {
    "name": "ipython",
    "version": 3
   },
   "file_extension": ".py",
   "mimetype": "text/x-python",
   "name": "python",
   "nbconvert_exporter": "python",
   "pygments_lexer": "ipython3",
   "version": "3.7.8"
  }
 },
 "nbformat": 4,
 "nbformat_minor": 4
}
