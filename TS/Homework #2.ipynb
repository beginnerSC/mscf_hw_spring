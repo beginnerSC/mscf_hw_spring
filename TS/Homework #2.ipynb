{
 "cells": [
  {
   "cell_type": "markdown",
   "metadata": {},
   "source": [
    "\\begin{center} \n",
    "Chun-Yuan (Scott) Chiu \n",
    "\\end{center}\n",
    "\\begin{center} \n",
    "chunyuac@andrew.cmu.edu \n",
    "\\end{center}"
   ]
  },
  {
   "cell_type": "markdown",
   "metadata": {},
   "source": [
    "# 1. {-}\n",
    "\n",
    "## (a) {-}\n",
    "\n",
    "Let $k>0$, $t>s>0$. Since $X_t$ is weakly stationary, we have\n",
    "\\begin{align*}\n",
    "\\operatorname{Cov}(Y_{s+k}, Y_{t+k}) &= \\operatorname{Cov}(X_{s+k}-X_{s+k-1}, X_{t+k}-X_{t+k-1}) \\\\\n",
    "&= \\operatorname{Cov}(X_{s+k}, X_{t+k}) - \\operatorname{Cov}(X_{s+k-1}, X_{t+k}) - \\operatorname{Cov}(X_{s+k}, X_{t+k-1}) + \\operatorname{Cov}(X_{s+k-1}, X_{t+k-1})\\\\\n",
    "&= \\operatorname{Cov}(X_{s}, X_{t}) - \\operatorname{Cov}(X_{s-1}, X_{t}) - \\operatorname{Cov}(X_{s}, X_{t-1}) + \\operatorname{Cov}(X_{s-1}, X_{t-1})\\\\\n",
    "&= \\operatorname{Cov}(X_{s}-X_{s-1}, X_{t}-X_{t-1}) \\\\\n",
    "&= \\operatorname{Cov}(Y_{s}, Y_{t}). \n",
    "\\end{align*}\n",
    "Thus $Y_t$ is weakly stationary too. \n",
    "\n",
    "\n",
    "Since $X_t$ is weakly stationary, it has constant mean. So the mean of $Y_t$ is \n",
    "\\begin{align*}\n",
    "E(Y_t) = E(X_t) - E(X_{t-1}) = 0. \n",
    "\\end{align*}\n",
    "\n",
    "\n",
    "The autocovariance function of $Y_t$ is \n",
    "\\begin{align*}\n",
    "\\gamma_Y(h) &= \\operatorname{Cov}(Y_{t+h}, Y_{t})\\\\\n",
    "&= \\operatorname{Cov}(X_{t+h}, X_{t}) - \\operatorname{Cov}(X_{t+h-1}, X_{t}) - \\operatorname{Cov}(X_{t+h}, X_{t-1}) + \\operatorname{Cov}(X_{t+h-1}, X_{t-1})\\\\\n",
    "&= 2(\\gamma_X(h) - \\gamma_X(h-1)), \n",
    "\\end{align*}\n",
    "where $\\gamma_X(h)$ is the autocovariance function of $X_t$. In particular, the variance of $Y_t$ is \n",
    "\\begin{align*}\n",
    "\\gamma_Y(0) = 2(\\gamma_X(0) - \\gamma_X(1)) = 2(\\operatorname{Var}(X_t) - \\operatorname{Cov}(X_{t}, X_{t-1})).\n",
    "\\end{align*}\n",
    "\n"
   ]
  },
  {
   "cell_type": "markdown",
   "metadata": {},
   "source": [
    "## (b) {-}\n",
    "\n",
    "Let $k>0$, $t>s>0$. Since $X_t^{(1)}$ and $X_t^{(2)}$ are both weakly stationary, we have\n",
    "\\begin{align*}\n",
    "\\operatorname{Cov}(Y_{s+k}, Y_{t+k}) &= \\operatorname{Cov}(aX_{s+k}^{(1)} + bX_{s+k}^{(2)} + c, aX_{t+k}^{(1)} + bX_{t+k}^{(2)} + c) \\\\\n",
    "&= a^2 \\operatorname{Cov}(X_{s+k}^{(1)}, X_{t+k}^{(1)}) + b^2 \\operatorname{Cov}(X_{s+k}^{(2)}, X_{t+k}^{(2)})\\\\\n",
    "&= a^2 \\operatorname{Cov}(X_{s}^{(1)}, X_{t}^{(1)}) + b^2 \\operatorname{Cov}(X_{s}^{(2)}, X_{t}^{(2)})\\\\\n",
    "&= \\operatorname{Cov}(aX_{s}^{(1)} + bX_{s}^{(2)} + c, aX_{t}^{(1)} + bX_{t}^{(2)} + c) \\\\\n",
    "&= \\operatorname{Cov}(Y_{s}, Y_{t}). \n",
    "\\end{align*}\n",
    "Thus $Y_t$ is weakly stationary too. "
   ]
  },
  {
   "cell_type": "markdown",
   "metadata": {},
   "source": [
    "# 2. {-}\n",
    "\n",
    "## (a) {-}\n",
    "\n",
    "Following lecture #3, we have \n",
    "\\begin{align*}\n",
    "\\rho_0 &= 1, \\\\\n",
    "\\rho_1 &= \\phi_1 \\rho_0 + \\phi_2 \\rho_{-1} = \\phi_1 + \\phi_2 \\rho_1, \\\\\n",
    "\\rho_2 &= \\phi_1\\rho_1 + \\phi_2\\rho_0. \n",
    "\\end{align*}\n",
    "In matrix form, this is \n",
    "\\begin{align*}\n",
    "\\begin{pmatrix}\n",
    "\\rho_1\\\\\n",
    "\\rho_2\n",
    "\\end{pmatrix} = \n",
    "\\begin{pmatrix}\n",
    "1 & \\rho_1\\\\\n",
    "\\rho_1 & 1\n",
    "\\end{pmatrix}\n",
    "\\begin{pmatrix}\n",
    "\\phi_1\\\\\n",
    "\\phi_2\n",
    "\\end{pmatrix}, \n",
    "\\end{align*}\n",
    "which yields the solution\n",
    "\\begin{align*}\n",
    "\\begin{pmatrix}\n",
    "\\phi_1\\\\\n",
    "\\phi_2\n",
    "\\end{pmatrix} &= \n",
    "\\begin{pmatrix}\n",
    "1 & \\rho_1\\\\\n",
    "\\rho_1 & 1\n",
    "\\end{pmatrix}^{-1}\n",
    "\\begin{pmatrix}\n",
    "\\rho_1\\\\\n",
    "\\rho_2\n",
    "\\end{pmatrix}\\\\\n",
    "&= \n",
    "\\frac{1}{1-\\rho_1^2}\n",
    "\\begin{pmatrix}\n",
    "1 & -\\rho_1\\\\\n",
    "-\\rho_1 & 1\n",
    "\\end{pmatrix}\n",
    "\\begin{pmatrix}\n",
    "\\rho_1\\\\\n",
    "\\rho_2\n",
    "\\end{pmatrix}\\\\ \n",
    "&= \n",
    "\\frac{1}{1-\\rho_1^2}\n",
    "\\begin{pmatrix}\n",
    "\\rho_1 - \\rho_1\\rho_2\\\\\n",
    "\\rho_2 - \\rho_1^2\n",
    "\\end{pmatrix}.\n",
    "\\end{align*}"
   ]
  },
  {
   "cell_type": "markdown",
   "metadata": {},
   "source": [
    "## (b) {-}\n",
    "\n",
    "As shown below, the estimated AR coefficients are close to the true value $\\phi_1=0.33$, $\\phi_2=-0.33$, and the estimated residual variance is close to the true value $\\sigma_\\epsilon^2 = 0.5$ too."
   ]
  },
  {
   "cell_type": "code",
   "execution_count": 2,
   "metadata": {},
   "outputs": [
    {
     "name": "stdout",
     "output_type": "stream",
     "text": [
      "Estimated AR coefficients: [ 0.34797538 -0.31647417]\n",
      "Estimated residual variance: 0.509394662375991\n"
     ]
    }
   ],
   "source": [
    "from statsmodels.regression.linear_model import yule_walker\n",
    "import statsmodels.api as sm\n",
    "import numpy as np\n",
    "\n",
    "def yule_walker_on_ar2(n):\n",
    "    arparams = np.array([.33, -.33])\n",
    "    sigma = np.sqrt(0.5)\n",
    "    \n",
    "    ar = np.r_[1, -arparams]\n",
    "    arma_process = sm.tsa.ArmaProcess(ar, ma=None)\n",
    "    y = arma_process.generate_sample(n, sigma) \n",
    "\n",
    "    est_phi, est_sigma = yule_walker(y, order=2, method='mle')\n",
    "\n",
    "    print(f'Estimated AR coefficients: {est_phi}')\n",
    "    print(f'Estimated residual variance: {est_sigma**2}')\n",
    "    \n",
    "yule_walker_on_ar2(1000)"
   ]
  },
  {
   "cell_type": "markdown",
   "metadata": {},
   "source": [
    "## (c) {-}\n",
    "\n",
    "The same experiment is repeated for different sizes. As a results, for $n=500$ the estimates are still somewhat close to the true values, but not so much for $n=100$. "
   ]
  },
  {
   "cell_type": "code",
   "execution_count": 32,
   "metadata": {},
   "outputs": [
    {
     "name": "stdout",
     "output_type": "stream",
     "text": [
      "Estimated AR coefficients: [ 0.34496819 -0.24682399]\n",
      "Estimated residual variance: 0.642033899889669\n"
     ]
    }
   ],
   "source": [
    "yule_walker_on_ar2(100)"
   ]
  },
  {
   "cell_type": "code",
   "execution_count": 41,
   "metadata": {},
   "outputs": [
    {
     "name": "stdout",
     "output_type": "stream",
     "text": [
      "Estimated AR coefficients: [ 0.35381183 -0.36110416]\n",
      "Estimated residual variance: 0.47104129890080704\n"
     ]
    }
   ],
   "source": [
    "yule_walker_on_ar2(500)"
   ]
  },
  {
   "cell_type": "markdown",
   "metadata": {},
   "source": [
    "# 3. {-}\n",
    "\n",
    "Following the lecture, for this MA(1) model we have the autocorrelation at lag 1\n",
    "\\begin{align*}\n",
    "\\rho_1 = \\frac{\\theta_1}{1 + \\theta_1^2}, \n",
    "\\end{align*}\n",
    "or equivalently\n",
    "\\begin{align*}\n",
    "\\rho_1 = \\frac{\\theta_1}{1 + \\theta_1^2}, \n",
    "\\end{align*}"
   ]
  },
  {
   "cell_type": "code",
   "execution_count": 1,
   "metadata": {},
   "outputs": [
    {
     "data": {
      "text/plain": [
       "<AxesSubplot:>"
      ]
     },
     "execution_count": 1,
     "metadata": {},
     "output_type": "execute_result"
    },
    {
     "data": {
      "image/png": "[encoded data removed]",
      "text/plain": [
       "<Figure size 432x288 with 1 Axes>"
      ]
     },
     "metadata": {
      "needs_background": "light"
     },
     "output_type": "display_data"
    }
   ],
   "source": [
    "import statsmodels.api as sm\n",
    "from statsmodels.tsa.arima_model import ARMA\n",
    "import numpy as np\n",
    "\n",
    "n = 1000\n",
    "maparams = np.array([.33])\n",
    "sigma = np.sqrt(1)\n",
    "\n",
    "ma = np.r_[1, maparams]\n",
    "arma_process = sm.tsa.ArmaProcess(ar=None, ma=ma)\n",
    "\n",
    "estimates = []\n",
    "# for _ in range(1):\n",
    "\n",
    "y = arma_process.generate_sample(n, sigma)\n",
    "\n",
    "    \n",
    "#     model = ARMA(y, (0, 1)).fit(trend='nc', disp=0)\n",
    "#     estimates.append(model.params[0])\n",
    "    \n",
    "# print(f'Estimates: {estimates}\\n')\n",
    "# print(f'Mean of estimates: {np.array(estimates).mean()}')\n",
    "# print(f'Std of estimates: {np.array(estimates).std()}')"
   ]
  },
  {
   "cell_type": "markdown",
   "metadata": {},
   "source": [
    "# 3. {-}\n",
    "\n",
    "We use $\\theta_1 = 0.33$. The reported estimates are close to the true value with standard deviation 0.03."
   ]
  },
  {
   "cell_type": "code",
   "execution_count": 62,
   "metadata": {},
   "outputs": [
    {
     "name": "stdout",
     "output_type": "stream",
     "text": [
      "Estimates: [0.2994581080425217, 0.3366533160238069, 0.3860447532531026, 0.30040024327335935, 0.3649752518922333, 0.29827802996905356, 0.3191699668597348, 0.3187398469687148, 0.3599334441626878, 0.36708211601229734]\n",
      "\n",
      "Mean of estimates: 0.3350735076457512\n",
      "Std of estimates: 0.030792134782577658\n"
     ]
    }
   ],
   "source": [
    "import statsmodels.api as sm\n",
    "from statsmodels.tsa.arima_model import ARMA\n",
    "import numpy as np\n",
    "\n",
    "n = 1000\n",
    "maparams = np.array([.33])\n",
    "sigma = np.sqrt(1)\n",
    "\n",
    "ma = np.r_[1, maparams]\n",
    "arma_process = sm.tsa.ArmaProcess(ar=None, ma=ma)\n",
    "\n",
    "estimates = []\n",
    "for _ in range(10):\n",
    "    y = arma_process.generate_sample(n, sigma) \n",
    "    model = ARMA(y, (0, 1)).fit(trend='nc', disp=0)\n",
    "    estimates.append(model.params[0])\n",
    "    \n",
    "print(f'Estimates: {estimates}\\n')\n",
    "print(f'Mean of estimates: {np.array(estimates).mean()}')\n",
    "print(f'Std of estimates: {np.array(estimates).std()}')"
   ]
  },
  {
   "cell_type": "markdown",
   "metadata": {},
   "source": [
    "# 4. {-}\n",
    "\n",
    "We repeated the experiment 100 times and computed the confidence interval (CI). In `statsmodels.api.OLS` there is a convenient way to test if a specific coefficient is significantly non-zero: `model.t_test([0, 1]).conf_int()`, where `model` is the fitted model, and `[0, 1]` specifies we want the CI of the null hypothesis $\\beta_1 = 0$. For example, using `[1, -2]`, we will be testing the null hypothesis $\\beta_0-2\\beta_1 = 0$. For more details see the [documentation](https://www.statsmodels.org/stable/generated/statsmodels.regression.linear_model.OLSResults.t_test.html). By default the `conf_int()` function reports the CI at a significance level of 5%. \n",
    "\n",
    "\n",
    "From our experiment, 73 out of 100 times 0 is not in the CI, which means the model suggests that $\\beta_1$ is significantly non-zero. "
   ]
  },
  {
   "cell_type": "code",
   "execution_count": 205,
   "metadata": {},
   "outputs": [
    {
     "name": "stdout",
     "output_type": "stream",
     "text": [
      "73 out of 100 times H_0 got rejected.\n",
      "CI from the last trial: (0.12175036620661622, 0.48039634360666733)\n"
     ]
    }
   ],
   "source": [
    "import numpy as np\n",
    "from scipy.stats import norm\n",
    "import statsmodels.api as sm\n",
    "\n",
    "rng = np.random.default_rng()\n",
    "n = 50\n",
    "\n",
    "res = []\n",
    "for _ in range(100):\n",
    "    X = rng.standard_normal(n).cumsum()\n",
    "    Y = rng.standard_normal(n).cumsum()\n",
    "    model = sm.OLS(Y, sm.add_constant(X)).fit()\n",
    "    a, b = model.t_test([0, 1]).conf_int()[0]\n",
    "    res.append(a < 0 < b)\n",
    "    \n",
    "print(f'{100-sum(res)} out of 100 times H_0 got rejected.')\n",
    "print(f'CI from the last trial: ({a}, {b})')"
   ]
  }
 ],
 "metadata": {
  "kernelspec": {
   "display_name": "Python 3",
   "language": "python",
   "name": "python3"
  },
  "language_info": {
   "codemirror_mode": {
    "name": "ipython",
    "version": 3
   },
   "file_extension": ".py",
   "mimetype": "text/x-python",
   "name": "python",
   "nbconvert_exporter": "python",
   "pygments_lexer": "ipython3",
   "version": "3.7.8"
  }
 },
 "nbformat": 4,
 "nbformat_minor": 4
}
