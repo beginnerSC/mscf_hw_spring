{
 "cells": [
  {
   "cell_type": "markdown",
   "metadata": {},
   "source": [
    "\\begin{center} \n",
    "Chun-Yuan (Scott) Chiu \n",
    "\\end{center}\n",
    "\\begin{center} \n",
    "chunyuac@andrew.cmu.edu \n",
    "\\end{center}"
   ]
  },
  {
   "cell_type": "markdown",
   "metadata": {},
   "source": [
    "# 1. {-}\n",
    "\n",
    "For completeness we list Form 1 here: \n",
    "\\begin{align*}\n",
    "&\\text{Maximize } M\\\\\n",
    "&\\text{Subject to } \\sum_{i=1}^n\\epsilon_i \\le C, \\epsilon_i\\ge 0, y_i(x_i^T\\beta+\\beta_0) \\ge M(1-\\epsilon_i), \\lVert\\beta\\rVert_2=1. \\qquad \\text{(Form 1)}\n",
    "\\end{align*}\n",
    "\n",
    "## (a) {-}\n",
    "\n",
    "Assume $b$ is positive. \n",
    "Replacing $\\beta$ by $b\\beta$ and $\\beta_0$ by $b\\beta_0$ the inequality \n",
    "\\begin{align*}\n",
    "y_i(x_i^T\\beta + \\beta_0) \\ge M(1-\\epsilon_i)\\lVert\\beta\\rVert_2, \n",
    "\\end{align*}\n",
    "we obtain \n",
    "\\begin{align*}\n",
    "& y_i(x_i^T(b\\beta) + b\\beta_0) \\ge M(1-\\epsilon_i)\\lVert b\\beta\\rVert_2 \\\\\n",
    "\\iff& by_i(x_i^T\\beta + \\beta_0) \\ge b M(1-\\epsilon_i)\\lVert \\beta\\rVert_2 \\\\\n",
    "\\iff& y_i(x_i^T\\beta + \\beta_0) \\ge M(1-\\epsilon_i)\\lVert \\beta\\rVert_2, \n",
    "\\end{align*}\n",
    "which is the original inequality. Thus scaling the coefficients of the equation of the decision boundary does not do anything to the inequality. \n",
    "\n",
    "\n",
    "Given this observation we choose $\\lVert\\beta\\rVert_2$ to be $1/M$, rewriting the optimization problem as \n",
    "\\begin{align*}\n",
    "&\\text{Minimize } \\lVert\\beta\\rVert_2\\\\\n",
    "&\\text{Subject to } \\sum_{i=1}^n\\epsilon_i \\le C, \\epsilon_i\\ge 0, y_i(x_i^T\\beta+\\beta_0) \\ge (1-\\epsilon_i). \\qquad \\text{(Form 2)}\n",
    "\\end{align*}\n",
    "Here minimizing $\\lVert\\beta\\rVert_2 = 1/M$ is the same as maximizing $M$. \n",
    "This is equivalent to replacing $\\beta$ by $\\beta/M$ and $\\beta_0$ by $\\beta_0/M$ in Form 1. The information about the width of the margin is now embedded in the coefficients $\\beta$ and $\\beta_0$ in Form 2. \n",
    "\n",
    "\n",
    "## (b) {-}\n",
    "\n",
    "Form 3 is as follows\n",
    "\\begin{align*}\n",
    "&\\text{Minimize } \\lVert\\beta\\rVert_2 + D\\sum_{i=1}^n\\epsilon_i\\\\\n",
    "&\\text{Subject to } \\epsilon_i\\ge 0, y_i(x_i^T\\beta+\\beta_0) \\ge (1-\\epsilon_i). \\qquad \\text{(Form 3)}\n",
    "\\end{align*}\n",
    "Big $C$ in Form 2 corresponds to small penalty for misclassifications, which corresponds to small $D$ in Form 3. \n"
   ]
  }
 ],
 "metadata": {
  "kernelspec": {
   "display_name": "Python 3",
   "language": "python",
   "name": "python3"
  },
  "language_info": {
   "codemirror_mode": {
    "name": "ipython",
    "version": 3
   },
   "file_extension": ".py",
   "mimetype": "text/x-python",
   "name": "python",
   "nbconvert_exporter": "python",
   "pygments_lexer": "ipython3",
   "version": "3.7.8"
  }
 },
 "nbformat": 4,
 "nbformat_minor": 4
}
