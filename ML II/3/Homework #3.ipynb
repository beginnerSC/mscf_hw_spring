{
 "cells": [
  {
   "cell_type": "markdown",
   "metadata": {},
   "source": [
    "\\begin{center} \n",
    "Chun-Yuan (Scott) Chiu \n",
    "\\end{center}\n",
    "\\begin{center} \n",
    "chunyuac@andrew.cmu.edu \n",
    "\\end{center}"
   ]
  },
  {
   "cell_type": "markdown",
   "metadata": {},
   "source": [
    "# 1. {-}\n",
    "\n",
    "## (a) {-}\n",
    "\n",
    "Assume $b$ is positive. \n",
    "Replacing $\\beta$ by $b\\beta$ and $\\beta_0$ by $b\\beta_0$ the inequality \n",
    "\\begin{align*}\n",
    "y_i(x_i^T\\beta + \\beta_0) \\ge M(1-\\epsilon_i)\\lVert\\beta\\rVert_2, \n",
    "\\end{align*}\n",
    "we obtain \n",
    "\\begin{align*}\n",
    "& y_i(x_i^T(b\\beta) + b\\beta_0) \\ge M(1-\\epsilon_i)\\lVert b\\beta\\rVert_2 \\\\\n",
    "\\iff& by_i(x_i^T\\beta + \\beta_0) \\ge b M(1-\\epsilon_i)\\lVert \\beta\\rVert_2 \\\\\n",
    "\\iff& y_i(x_i^T\\beta + \\beta_0) \\ge M(1-\\epsilon_i)\\lVert \\beta\\rVert_2, \n",
    "\\end{align*}\n",
    "which is the original inequality. Thus scaling the coefficients of the equation of the decision boundary does not do anything to the inequality. \n",
    "\n",
    "\n",
    "Given this observation we choose $\\lVert\\beta\\rVert_2$ to be $1/M$, rewriting the optimization problem as \n",
    "\\begin{align*}\n",
    "&\\text{Minimize } \\lVert\\beta\\rVert_2\\\\\n",
    "&\\text{Subject to } \\sum_{i=1}^n\\epsilon_i \\le C, \\epsilon_i\\ge 0, y_i(x_i^T\\beta+\\beta_0) \\ge (1-\\epsilon_i). \n",
    "\\end{align*}\n",
    "Here minimizing $\\lVert\\beta\\rVert_2 = 1/M$ is equivalent to maximizing $M$. \n",
    "\n",
    "\n",
    "\n",
    "\n"
   ]
  }
 ],
 "metadata": {
  "kernelspec": {
   "display_name": "Python 3",
   "language": "python",
   "name": "python3"
  },
  "language_info": {
   "codemirror_mode": {
    "name": "ipython",
    "version": 3
   },
   "file_extension": ".py",
   "mimetype": "text/x-python",
   "name": "python",
   "nbconvert_exporter": "python",
   "pygments_lexer": "ipython3",
   "version": "3.7.8"
  }
 },
 "nbformat": 4,
 "nbformat_minor": 4
}
