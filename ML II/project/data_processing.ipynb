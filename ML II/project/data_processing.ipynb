{
 "cells": [
  {
   "cell_type": "code",
   "execution_count": 5,
   "metadata": {},
   "outputs": [],
   "source": [
    "from scipy.stats import norm\n",
    "from pandas import DataFrame\n",
    "import numpy as np\n",
    "import pandas as pd\n",
    "\n",
    "def bsCall(S, K, r, s, T):\n",
    "    d1 = (np.log(S/K) + (r + 0.5*s**2)*T)/(s*np.sqrt(T))\n",
    "    d2 = d1 - s*np.sqrt(T)\n",
    "    return S*norm.cdf(d1) - K*np.exp(-r*T)*norm.cdf(d2)\n",
    "    \n",
    "def bsPut(S, K, r, s, T):\n",
    "    d1 = (np.log(S/K) + (r + 0.5*s**2)*T)/(s*np.sqrt(T))\n",
    "    d2 = d1 - s*np.sqrt(T)\n",
    "    return -S*norm.cdf(-d1) + K*np.exp(-r*T)*norm.cdf(-d2)\n",
    "\n",
    "vol = pd.read_csv('IV.csv', parse_dates=['Date']).iloc[1:, :].set_index('Date')\n",
    "spx = pd.read_csv('data.csv', parse_dates=['Date'])[['Date', 'SPX']].set_index('Date')\n",
    "param = pd.read_csv('LIBOR.csv', header=5, parse_dates=[0]).iloc[:, :2].set_index('Date').rename(columns={'PX_ASK': '1ML'}).merge(spx, on='Date')\n",
    "\n",
    "dates = param.index.intersection(vol.index)\n",
    "param = param.loc[dates]\n",
    "param = param.assign(FWD=np.exp(param['1ML']/1200)*param['SPX'])\n",
    "vol = vol.loc[dates]\n",
    "strike = DataFrame(np.array([param['FWD'] + Delta for Delta in [-90, -75, -60, -50, -40, -25, -10, 0, 10, 25, 40, 50, 60, 75, 90]]).T, \n",
    "                  columns=vol.columns, index=vol.index)"
   ]
  },
  {
   "cell_type": "code",
   "execution_count": null,
   "metadata": {},
   "outputs": [],
   "source": [
    "%%time\n",
    "\n",
    "m, n = vol.shape\n",
    "pv = np.empty_like(vol)\n",
    "for i in range(m):\n",
    "    for j in range(n):\n",
    "        pricingFnc = bsCall if vol.columns[j][0] == 'C' else bsPut\n",
    "        if i==235:\n",
    "            S = param['SPX'].iloc[i], \n",
    "            K = strike.iloc[i, j], \n",
    "            r = param['1ML'].iloc[i]/100, \n",
    "            s = vol.iloc[i, j]/100, \n",
    "            T = 1/12\n",
    "            \n",
    "            d1 = (np.log(S/K) + (r + 0.5*s**2)*T)/(s*np.sqrt(T))\n",
    "            d2 = d1 - s*np.sqrt(T)\n",
    "            put = -S*norm.cdf(-d1) + K*np.exp(-r*T)*norm.cdf(-d2)\n",
    "            print(d1, d2, put)\n",
    "            break\n",
    "        pv[i, j] = pricingFnc(  S=param['SPX'].iloc[i], \n",
    "                                K=strike.iloc[i, j], \n",
    "                                r=param['1ML'].iloc[i]/100, \n",
    "                                s=vol.iloc[i, j]/100, \n",
    "                                T=1/12)\n",
    "        \n",
    "pv = DataFrame(pv, columns=vol.columns, index=vol.index)\n",
    "pv.to_csv('pv.csv')"
   ]
  },
  {
   "cell_type": "code",
   "execution_count": 39,
   "metadata": {},
   "outputs": [
    {
     "data": {
      "text/plain": [
       "(array([234, 234, 234, 234, 234, 234, 234, 234, 234, 234, 234, 234, 234,\n",
       "        234, 235, 235, 235, 235, 235, 235, 235, 235, 235, 235, 235, 235,\n",
       "        235, 235, 236, 236, 236, 236, 236, 236, 236, 236, 236, 236, 236,\n",
       "        236, 236, 236, 237, 237, 237, 237, 237, 237, 237, 237, 237, 237,\n",
       "        237, 237, 237, 237]),\n",
       " array([ 1,  2,  3,  4,  5,  6,  7,  8,  9, 10, 11, 12, 13, 14,  1,  2,  3,\n",
       "         4,  5,  6,  7,  8,  9, 10, 11, 12, 13, 14,  1,  2,  3,  4,  5,  6,\n",
       "         7,  8,  9, 10, 11, 12, 13, 14,  1,  2,  3,  4,  5,  6,  7,  8,  9,\n",
       "        10, 11, 12, 13, 14]))"
      ]
     },
     "execution_count": 39,
     "metadata": {},
     "output_type": "execute_result"
    }
   ],
   "source": [
    "from sklearn.preprocessing import normalize\n",
    "\n",
    "pv = pd.read_csv('pv.csv', index_col=0)\n",
    "pv.index = strike.index\n",
    "\n",
    "import seaborn as sns\n",
    "\n",
    "np.where(pv.isna())"
   ]
  }
 ],
 "metadata": {
  "kernelspec": {
   "display_name": "Python 3",
   "language": "python",
   "name": "python3"
  },
  "language_info": {
   "codemirror_mode": {
    "name": "ipython",
    "version": 3
   },
   "file_extension": ".py",
   "mimetype": "text/x-python",
   "name": "python",
   "nbconvert_exporter": "python",
   "pygments_lexer": "ipython3",
   "version": "3.7.8"
  }
 },
 "nbformat": 4,
 "nbformat_minor": 4
}
