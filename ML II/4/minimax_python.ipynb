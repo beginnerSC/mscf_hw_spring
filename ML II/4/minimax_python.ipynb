{
 "cells": [
  {
   "cell_type": "markdown",
   "metadata": {},
   "source": [
    "# Fast Implementation"
   ]
  },
  {
   "cell_type": "code",
   "execution_count": 5,
   "metadata": {},
   "outputs": [
    {
     "data": {
      "image/png": "[encoded data removed]",
      "text/plain": [
       "<Figure size 360x576 with 1 Axes>"
      ]
     },
     "metadata": {
      "needs_background": "light"
     },
     "output_type": "display_data"
    }
   ],
   "source": [
    "import math\n",
    "import numpy as np\n",
    "import matplotlib.pyplot as plt\n",
    "from itertools import combinations\n",
    "from functools import lru_cache\n",
    "from pandas import DataFrame\n",
    "from scipy.cluster import hierarchy\n",
    "from scipy.spatial.distance import pdist\n",
    "\n",
    "def minimax_linkage(dist):\n",
    "    n = int((np.sqrt(8*len(dist) + 1) + 1)/2)\n",
    "    clusters = {i: set([i]) for i in range(n)}\n",
    "    \n",
    "    def d(i, j): return dist[n*i+j-((i+2)*(i+1))//2] if i<j else (0 if i==j else d(j, i))\n",
    "    \n",
    "    @lru_cache(maxsize=None)\n",
    "    def r(i, groupIdx): return max(d(i, j) for j in clusters[groupIdx])\n",
    "    \n",
    "    Z = []\n",
    "    for i in range(n-1):\n",
    "        min_d = math.inf\n",
    "        for (idxG, G), (idxH, H) in combinations(clusters.items(), 2):\n",
    "            dminimax = min(max(r(x, idxG), r(x, idxH)) for x in G|H)\n",
    "            if dminimax < min_d:\n",
    "                min_d = dminimax\n",
    "                to_merge = [idxG, idxH, dminimax, len(G|H)]\n",
    "        Z.append(to_merge)\n",
    "        idxG, idxH, _, _ = to_merge\n",
    "        clusters[n+i] = clusters.pop(idxG) | clusters.pop(idxH)\n",
    "        \n",
    "    return Z\n",
    "\n",
    "X = [[0, 0], [0, 1], [1, 0], [0, 4], [0, 3], [1, 4], [4, 0], [3, 0], [4, 1], [4, 4], [3, 4], [4, 3]]\n",
    "Z = minimax_linkage(pdist(X))\n",
    "# Z = hierarchy.complete(pdist(X))\n",
    "\n",
    "fig, ax = plt.subplots(1, 1, figsize=(5, 8))\n",
    "hierarchy.dendrogram(Z, ax=ax, orientation='left')\n",
    "ax.set(title='Dendrogram with Minimax Linkage')\n",
    "plt.show()"
   ]
  },
  {
   "cell_type": "markdown",
   "metadata": {},
   "source": [
    "# Brute Force Implementation"
   ]
  },
  {
   "cell_type": "code",
   "execution_count": 1,
   "metadata": {},
   "outputs": [
    {
     "data": {
      "image/png": "[encoded data removed]",
      "text/plain": [
       "<Figure size 360x576 with 1 Axes>"
      ]
     },
     "metadata": {
      "needs_background": "light"
     },
     "output_type": "display_data"
    }
   ],
   "source": [
    "import math\n",
    "import numpy as np\n",
    "import matplotlib.pyplot as plt\n",
    "from itertools import combinations\n",
    "from pandas import DataFrame\n",
    "from scipy.cluster import hierarchy\n",
    "from scipy.spatial.distance import pdist\n",
    "\n",
    "def minimax_linkage(dist):\n",
    "    n = int((np.sqrt(8*len(dist) + 1) + 1)/2)\n",
    "    \n",
    "    def d(i, j): return dist[n*i+j-((i+2)*(i+1))//2] if i<j else (0 if i==j else d(j, i))\n",
    "    def r(i, G): return max(d(i, j) for j in G)\n",
    "    \n",
    "    Z = []\n",
    "    clusters = {i: set([i]) for i in range(n)}\n",
    "    for i in range(n-1):\n",
    "        min_d = math.inf\n",
    "        for (idxG, G), (idxH, H) in combinations(clusters.items(), 2):\n",
    "            dminimax = min(r(x, G|H) for x in G|H)\n",
    "            if dminimax < min_d:\n",
    "                min_d = dminimax\n",
    "                to_merge = [idxG, idxH, dminimax, len(G|H)]\n",
    "        Z.append(to_merge)\n",
    "        idxG, idxH, _, _ = to_merge\n",
    "        clusters[n+i] = clusters.pop(idxG) | clusters.pop(idxH)\n",
    "        \n",
    "    return Z\n",
    "\n",
    "X = [[0, 0], [0, 1], [1, 0], [0, 4], [0, 3], [1, 4], [4, 0], [3, 0], [4, 1], [4, 4], [3, 4], [4, 3]]\n",
    "Z = minimax_linkage(pdist(X))\n",
    "# Z = hierarchy.complete(pdist(X))\n",
    "\n",
    "fig, ax = plt.subplots(1, 1, figsize=(5, 8))\n",
    "hierarchy.dendrogram(Z, ax=ax, orientation='left')\n",
    "ax.set(title='Dendrogram with Minimax Linkage')\n",
    "plt.show()"
   ]
  }
 ],
 "metadata": {
  "kernelspec": {
   "display_name": "Python 3",
   "language": "python",
   "name": "python3"
  },
  "language_info": {
   "codemirror_mode": {
    "name": "ipython",
    "version": 3
   },
   "file_extension": ".py",
   "mimetype": "text/x-python",
   "name": "python",
   "nbconvert_exporter": "python",
   "pygments_lexer": "ipython3",
   "version": "3.7.8"
  }
 },
 "nbformat": 4,
 "nbformat_minor": 4
}
