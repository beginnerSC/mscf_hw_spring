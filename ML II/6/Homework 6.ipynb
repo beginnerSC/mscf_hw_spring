{
 "cells": [
  {
   "cell_type": "markdown",
   "metadata": {},
   "source": [
    "\\begin{center} \n",
    "Chun-Yuan (Scott) Chiu \n",
    "\\end{center}\n",
    "\\begin{center} \n",
    "chunyuac@andrew.cmu.edu \n",
    "\\end{center}"
   ]
  },
  {
   "cell_type": "markdown",
   "metadata": {},
   "source": [
    "# {-}\n",
    "\n",
    "This is starter code for homework 6.  Most of the code won't run as is.  You need to complete the missing parts of the functions."
   ]
  },
  {
   "cell_type": "code",
   "execution_count": 1,
   "metadata": {},
   "outputs": [],
   "source": [
    "import numpy as np\n",
    "import sklearn as sk\n",
    "import matplotlib\n",
    "import matplotlib.pyplot as plt\n",
    "import scipy.stats\n",
    "from sklearn.linear_model import LinearRegression\n",
    "import pandas as pd\n",
    "\n",
    "matplotlib.rcParams['figure.figsize'] = (12,8)"
   ]
  },
  {
   "cell_type": "markdown",
   "metadata": {},
   "source": [
    "# Problem 1 {-}"
   ]
  },
  {
   "cell_type": "markdown",
   "metadata": {},
   "source": [
    "## Part a {-}\n",
    "\n",
    "Fill in the missing parts of the classes below, marked with TODO."
   ]
  },
  {
   "cell_type": "code",
   "execution_count": 2,
   "metadata": {},
   "outputs": [],
   "source": [
    "# This class represents your loss function, (1/2) sum((y-yhat)^2).\n",
    "# Note: we are including a 1/2, which we don't always do, so that your derivatives will be particularly nice.\n",
    "# The functions should operate on vectors y and yhat\n",
    "class Loss(object):\n",
    "    def __init__(self):\n",
    "        # These fields will store the last seen y and yhat\n",
    "        # The stored values will be used by backward() to compute the gradient of this function\n",
    "        # at the last evaluated point\n",
    "        self.last_y = 0\n",
    "        self.last_yhat = 0\n",
    "    \n",
    "    # This function returns the value of the loss\n",
    "    def forward(self, y, yhat):\n",
    "        # Store the new values for use in the gradient\n",
    "        self.last_y = y\n",
    "        self.last_yhat = yhat    \n",
    "        return 0.5*((self.last_y - self.last_yhat)**2).sum()\n",
    "    \n",
    "    # This function returns the gradient of the loss: y - yhat\n",
    "    # Important: This must be an (n,1) matrix.  Not (n,). \n",
    "    def backward(self):\n",
    "        # Grab the length of y for shape checking\n",
    "        n = len(self.last_y)\n",
    "        return_value = -(self.last_y - self.last_yhat)\n",
    "        \n",
    "        # Let's check the shape of the return value to keep you sane\n",
    "        assert return_value.shape == (n,1), \"Loss backward returns wrong shape\"\n",
    "        return return_value\n",
    "    \n",
    "# This class represents your linear function, beta -> X\\beta.  Should work for an n by p matrix X.\n",
    "class LinearFunction(object):\n",
    "    # Linear function is initialized with a dimension p, and an optional starting value beta\n",
    "    def __init__(self, p, beta=None):\n",
    "        self.p = p\n",
    "        if beta is None:\n",
    "            self.beta = np.zeros((p,1))\n",
    "        else:\n",
    "            #We make sure that beta starts with the right shape, even if you send in the wrong shape\n",
    "            self.beta = beta.reshape((p,1))\n",
    "        #Store the last X seen by this function, initialize to 0\n",
    "        self.last_X = 0\n",
    "    \n",
    "    # This function returns the value of the linear function at an X and the current beta: X*beta\n",
    "    def forward(self, X):\n",
    "        # Record the new X for use later in the gradient\n",
    "        n,p = X.shape\n",
    "        self.last_X = X\n",
    "        \n",
    "        # TODO: You need to compute the value of your linear function: X*beta (matrix multiplied)\n",
    "        # Make sure that your return value is n by 1\n",
    "        return_value = self.last_X @ self.beta\n",
    "        \n",
    "        assert return_value.shape == (n,1), \"Linear forward returns wrong shape\"\n",
    "        return return_value\n",
    "    \n",
    "    def backward(self):\n",
    "        # TODO: You need to compute the gradient of the linear function with respect to beta. (X^T)\n",
    "        # Make sure that your return value is p by n\n",
    "        n,p = self.last_X.shape\n",
    "        \n",
    "        return_value = self.last_X.T\n",
    "        \n",
    "        # Let's check the shape of the return value to keep you sane\n",
    "        assert return_value.shape == (p,n), \"Loss backward returns wrong shape\"\n",
    "        return return_value\n",
    "    \n",
    "    # This is just here to make your future updates ever so slightly easier.  This way your gradient updates \n",
    "    # will just be a function call, and the shape will be confirmed correct\n",
    "    def beta_shift(self, shift):\n",
    "        assert self.beta.shape == shift.shape\n",
    "        self.beta = self.beta + shift\n",
    "    "
   ]
  },
  {
   "cell_type": "markdown",
   "metadata": {},
   "source": [
    "That's all there is to it!  We can link them together using the chain rule, and then solve linear regression by coordinate descent!"
   ]
  },
  {
   "cell_type": "markdown",
   "metadata": {},
   "source": [
    "First, we generate some trial data to experiment with:"
   ]
  },
  {
   "cell_type": "code",
   "execution_count": 3,
   "metadata": {},
   "outputs": [],
   "source": [
    "n = 100\n",
    "p = 3\n",
    "beta = np.array([3,1,4]).reshape((-1,1))\n",
    "np.random.seed(1)\n",
    "X = scipy.stats.norm.rvs(size=n*p).reshape((n,p))\n",
    "y = np.dot(X,beta) + scipy.stats.norm.rvs(size=n, scale=0.1).reshape((n,1))"
   ]
  },
  {
   "cell_type": "code",
   "execution_count": 4,
   "metadata": {},
   "outputs": [
    {
     "data": {
      "text/plain": [
       "array([[3.00263927, 0.98650739, 3.99947187]])"
      ]
     },
     "execution_count": 4,
     "metadata": {},
     "output_type": "execute_result"
    }
   ],
   "source": [
    "# Check that the coefficient is about what we think it should be.\n",
    "# Hopefully you will soon have an implementation that agrees with this.\n",
    "fit = LinearRegression().fit(X,y)\n",
    "fit.coef_"
   ]
  },
  {
   "cell_type": "markdown",
   "metadata": {},
   "source": [
    "### Check 1a {-}\n",
    "\n",
    "Execute this code to check your implementation.  This should execute without errors and without triggering the assertions about return value shapes.  Summaries are computed of the gradients to verify you're getting the right numbers."
   ]
  },
  {
   "cell_type": "code",
   "execution_count": 5,
   "metadata": {},
   "outputs": [
    {
     "name": "stdout",
     "output_type": "stream",
     "text": [
      "1087.1524810665376\n",
      "[0.0179277  0.08671813 0.11855369]\n",
      "-0.6126797649214445\n"
     ]
    }
   ],
   "source": [
    "# We can initialize the pieces of our solver. Right now, beta is initialized to a vector of zeros\n",
    "linear = LinearFunction(p)\n",
    "loss = Loss()\n",
    "\n",
    "# Computes the squared error loss for your current X, evaluated with beta = 0\n",
    "print(loss.forward(y, linear.forward(X))) # Should be approximately 1087.15\n",
    "\n",
    "# Compute the gradient of the linear piece and summarize by the mean for checking\n",
    "print(np.mean(linear.backward(), axis=1))\n",
    "# Should be [0.0179277 , 0.08671813, 0.11855369]\n",
    "\n",
    "#Compute the gradient of the loss with respect to yhat and summarize by mean\n",
    "print(np.mean(loss.backward())) # Should be approximately -0.613"
   ]
  },
  {
   "cell_type": "markdown",
   "metadata": {},
   "source": [
    "## Part b {-}\n",
    "\n",
    "Put it all together into what will become one iteration of gradient descent.  The end goal here is to produce a gradient of the loss with respect to beta, which should have shape p x 1"
   ]
  },
  {
   "cell_type": "code",
   "execution_count": 6,
   "metadata": {},
   "outputs": [
    {
     "name": "stdout",
     "output_type": "stream",
     "text": [
      "[[-283.8105542 ]\n",
      " [ -39.20095874]\n",
      " [-320.63943886]]\n"
     ]
    }
   ],
   "source": [
    "# TODO: Fill in each of the missing lines\n",
    "# Compute the loss for linear function evaluated at current X\n",
    "## TODO ##\n",
    "\n",
    "# Compute the gradient of the loss with respect to beta.\n",
    "# This should be (gradient from linear) * (gradient from loss)\n",
    "grad = linear.backward() @ loss.backward()\n",
    "\n",
    "# Print out your final gradient of the loss with respect to beta for the first step from initialization above.\n",
    "print(grad)"
   ]
  },
  {
   "cell_type": "markdown",
   "metadata": {},
   "source": [
    "## Part c {-}\n",
    "\n",
    "Now you will actually write gradient descent and solve the problem!"
   ]
  },
  {
   "cell_type": "code",
   "execution_count": 7,
   "metadata": {},
   "outputs": [],
   "source": [
    "# Number of steps of gradient descent\n",
    "reps = 100\n",
    "# Learning rate (in practice, often decreases with iteration)\n",
    "eta = 0.01\n",
    "\n",
    "# Initialize the pieces of our solver. beta is initialized to a vector of zeros\n",
    "linear = LinearFunction(p)\n",
    "loss = Loss()\n",
    "\n",
    "# Let's keep track of the loss at each step, so you can visualize your optimization later\n",
    "losses = np.zeros(reps)\n",
    "\n",
    "grads = []\n",
    "\n",
    "for i in range(reps):\n",
    "    # Compute and store your current loss\n",
    "    losses[i] = loss.forward(y, linear.forward(X))\n",
    "    \n",
    "    # Compute the gradient of loss with respect to beta\n",
    "    grad = linear.backward() @ loss.backward()\n",
    "    grads.append(grad)\n",
    "    \n",
    "    # Adjust beta (using beta_shift) by -grad*eta\n",
    "    linear.beta_shift(-grad*eta)"
   ]
  },
  {
   "cell_type": "markdown",
   "metadata": {},
   "source": [
    "## Part d {-}\n",
    "\n",
    "The training result $\\beta$, as printed out here, is very close to the benchmark $(3, 1, 4)^T$. "
   ]
  },
  {
   "cell_type": "code",
   "execution_count": 23,
   "metadata": {},
   "outputs": [
    {
     "data": {
      "text/plain": [
       "array([[3.00261269],\n",
       "       [0.98641329],\n",
       "       [3.99934409]])"
      ]
     },
     "execution_count": 23,
     "metadata": {},
     "output_type": "execute_result"
    }
   ],
   "source": [
    "linear.beta"
   ]
  },
  {
   "cell_type": "markdown",
   "metadata": {},
   "source": [
    "The loss decreases rapidly towards zero and converges within the first few iterations. "
   ]
  },
  {
   "cell_type": "code",
   "execution_count": 22,
   "metadata": {},
   "outputs": [
    {
     "data": {
      "image/png": "[encoded data removed]",
      "text/plain": [
       "<Figure size 864x576 with 1 Axes>"
      ]
     },
     "metadata": {
      "needs_background": "light"
     },
     "output_type": "display_data"
    }
   ],
   "source": [
    "from pandas import Series\n",
    "\n",
    "Series(losses).plot(style='.-')\n",
    "pass"
   ]
  },
  {
   "cell_type": "markdown",
   "metadata": {},
   "source": [
    "## Part e {-}\n",
    "\n",
    "Stochastic gradient descent.  Here you will change your solver to do stochastic gradient descent.  Not much has to change, just your loop from part c.  The Linear and Loss classes stay the same, we just don't show them all the data at the same time."
   ]
  },
  {
   "cell_type": "code",
   "execution_count": null,
   "metadata": {},
   "outputs": [],
   "source": [
    "# Number of steps of gradient descent.  We need more for the stochastic version\n",
    "reps = 1000\n",
    "# Learning rate (in practice, often decreases with iteration)\n",
    "eta = 0.01\n",
    "\n",
    "# Initialize the pieces of our solver. beta is initialized to a vector of zeros\n",
    "linear = LinearFunction(p)\n",
    "loss = Loss()        \n",
    "\n",
    "# Let's keep track of the loss at each step, so you can visualize your optimization later.  \n",
    "# We will track two losses: The loss on your single sampled point, and the loss on your whole sample.\n",
    "losses = np.zeros(reps)\n",
    "losses_entire = np.zeros(reps)\n",
    "\n",
    "for i in range(reps):\n",
    "    # Pick a single observation to show the optimizer this time\n",
    "    k = np.random.randint(y.shape[0])\n",
    "    \n",
    "    # Compute and store your current loss, only for the kth row of X and kth y element!\n",
    "    # Note: when subsetting X, use X[np.newaxis, k,:].  This keeps the resulting row\n",
    "    # two dimensional, rather than dropping to a 1d vector.\n",
    "    losses[i] = ## TODO: Fill me in ##\n",
    "    \n",
    "    # Compute the gradient of loss with respect to beta\n",
    "    grad = ## TODO: Fill me in ##\n",
    "    \n",
    "    # Compute losses on the whole sample (you wouldn't usually actually do this, too expensive)\n",
    "    losses_entire[i] = loss.forward(y, linear.forward(X))\n",
    "    \n",
    "    # Adjust beta (using beta_shift) by -grad*eta\n",
    "    ## TODO: Fill me in ##"
   ]
  },
  {
   "cell_type": "markdown",
   "metadata": {},
   "source": [
    "# Problem 2 {-}"
   ]
  },
  {
   "cell_type": "code",
   "execution_count": null,
   "metadata": {},
   "outputs": [],
   "source": [
    "import torch\n",
    "import torch.autograd\n",
    "import torch.nn.functional as F"
   ]
  },
  {
   "cell_type": "code",
   "execution_count": null,
   "metadata": {},
   "outputs": [],
   "source": [
    "# Same data as before\n",
    "n = 100\n",
    "p = 3\n",
    "beta = np.array([3,1,4]).reshape((-1,1))\n",
    "np.random.seed(1)\n",
    "X = scipy.stats.norm.rvs(size=n*p).reshape((n,p))\n",
    "y = np.dot(X,beta) + scipy.stats.norm.rvs(size=n, scale=0.1).reshape((n,1))"
   ]
  },
  {
   "cell_type": "code",
   "execution_count": null,
   "metadata": {},
   "outputs": [],
   "source": [
    "# Convert your data X, y to tensors, using torch.Tensor\n",
    "X = torch.Tensor(X)\n",
    "y = torch.Tensor(y)\n",
    "\n",
    "# Convert those tensors to variables, so that torch will track gradients.  Use torch.autograd.Variable\n",
    "X = torch.autograd.Variable(X)\n",
    "y = torch.autograd.Variable(y)\n",
    "    \n",
    "# Make a linear function using torch.nn.Linear\n",
    "# Set the bias to False turns off intercept. Not usally desirable, but want to match our problem 1 code.\n",
    "fc = torch.nn.Linear(p, 1, bias=False)"
   ]
  },
  {
   "cell_type": "code",
   "execution_count": null,
   "metadata": {},
   "outputs": [],
   "source": [
    "reps = 100\n",
    "losses = np.zeros(reps)\n",
    "for i in range(reps):\n",
    "    \n",
    "    # Reset gradients\n",
    "    fc.zero_grad()\n",
    "\n",
    "    # Forward pass: Compute the mse_loss between fc(X) and y, using F.mse_loss(guess, truth)\n",
    "    # Store the output in losses[i]\n",
    "    output = F.mse_loss(fc(X), y) ## TODO ##\n",
    "    losses[i] = output\n",
    "    \n",
    "    # Compute all the gradients\n",
    "    output.backward()\n",
    "\n",
    "    # Apply gradients.  In practice, this can be carried out by built in functions\n",
    "    # as well, like torch.optim.SGD\n",
    "    for param in fc.parameters():\n",
    "        param.data.add_(-0.1 * param.grad.data)\n"
   ]
  },
  {
   "cell_type": "code",
   "execution_count": null,
   "metadata": {},
   "outputs": [],
   "source": []
  }
 ],
 "metadata": {
  "kernelspec": {
   "display_name": "Python 3",
   "language": "python",
   "name": "python3"
  },
  "language_info": {
   "codemirror_mode": {
    "name": "ipython",
    "version": 3
   },
   "file_extension": ".py",
   "mimetype": "text/x-python",
   "name": "python",
   "nbconvert_exporter": "python",
   "pygments_lexer": "ipython3",
   "version": "3.7.8"
  }
 },
 "nbformat": 4,
 "nbformat_minor": 4
}
